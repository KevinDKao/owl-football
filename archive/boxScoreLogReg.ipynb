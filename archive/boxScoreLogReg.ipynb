{
 "cells": [
  {
   "cell_type": "code",
   "execution_count": null,
   "metadata": {},
   "outputs": [],
   "source": [
    "import numpy as np"
   ]
  },
  {
   "cell_type": "markdown",
   "metadata": {},
   "source": [
    "# Example Notebook"
   ]
  },
  {
   "cell_type": "markdown",
   "metadata": {},
   "source": [
    "## Games"
   ]
  },
  {
   "cell_type": "code",
   "execution_count": null,
   "metadata": {},
   "outputs": [],
   "source": [
    "# Import packages\n",
    "from IPython.display import display\n",
    "import pandas as pd\n",
    "from games import (\n",
    "    get_games,\n",
    "    get_games_team_box,\n",
    "    get_player_stats,\n",
    "    get_game_weather,\n",
    "    get_team_records,\n",
    ")"
   ]
  },
  {
   "cell_type": "code",
   "execution_count": null,
   "metadata": {},
   "outputs": [],
   "source": [
    "from credentials import API_KEY\n",
    "\n",
    "print(f\"API Key Loaded: {API_KEY}\")  # Masking for security"
   ]
  },
  {
   "cell_type": "code",
   "execution_count": null,
   "metadata": {
    "scrolled": true
   },
   "outputs": [],
   "source": [
    "# import pandas as pd\n",
    "# from ratings import get_sp_ratings, get_sp_conference_ratings, get_fpi_ratings, get_elo_ratings\n",
    "# from recruiting import get_recruiting_players, get_recruiting_teams\n",
    "\n",
    "# # Retrieve game data for 2024 Season\n",
    "# games_data_2024 = get_games(\n",
    "#     year=2024,\n",
    "#     session_type='regular',\n",
    "#     classification='fbs'\n",
    "# )\n",
    "# print(\"\\nGames Data (2024):\")\n",
    "# display(pd.DataFrame(games_data_2024).head())\n",
    "\n",
    "# # Retrieve team box score stats for 2024\n",
    "# #######\n",
    "# # top_team_stats_2024 = get_games_team_box(\n",
    "# #     year=2024,\n",
    "# #     week =1\n",
    "# # )\n",
    "# # print(\"\\nTeam Box Scores (2024):\")\n",
    "# #display(top_team_stats_2024)\n",
    "\n",
    "# # Retrieve player stats for 2024 season\n",
    "# player_stats_2024 = get_player_stats(\n",
    "#     year=2024,\n",
    "#     season_type='regular'\n",
    "# )\n",
    "# print(\"\\nPlayer Stats (2024):\")\n",
    "# display(pd.DataFrame(player_stats_2024).head())\n",
    "\n",
    "# # Get recruiting rankings for 2024\n",
    "# players_2024 = get_recruiting_players(year=2024)\n",
    "# print(\"\\nRecruiting Player Rankings (2024):\")\n",
    "# display(players_2024)\n",
    "\n",
    "# teams_2024 = get_recruiting_teams(year=2024)\n",
    "# print(\"\\nTeam Recruiting Rankings (2024):\")\n",
    "# display(teams_2024)\n",
    "\n",
    "# # Get SP+ ratings for 2024\n",
    "# sp_ratings_2024 = get_sp_ratings(year=2024, team=None)\n",
    "# print(\"\\nSP+ Ratings (2024):\")\n",
    "# display(sp_ratings_2024)\n",
    "\n",
    "# # Get conference SP+ ratings for 2024\n",
    "# conf_ratings_2024 = get_sp_conference_ratings(year=2024)\n",
    "# print(\"\\nConference SP+ Ratings (2024):\")\n",
    "# display(conf_ratings_2024)\n",
    "\n",
    "# # Get FPI ratings for USC in 2024\n",
    "# usc_fpi_2024 = get_fpi_ratings(year=2024, team=\"USC\")\n",
    "# print(\"\\nFPI Ratings for USC (2024):\")\n",
    "# display(usc_fpi_2024)\n",
    "\n",
    "# # Get Elo ratings for Week 1 of 2024\n",
    "# week1_elo_2024 = get_elo_ratings(year=2024, week=1)\n",
    "# print(\"\\nElo Ratings (Week 1, 2024):\")\n",
    "# display(week1_elo_2024)"
   ]
  },
  {
   "cell_type": "markdown",
   "metadata": {},
   "source": [
    "# Get box scores"
   ]
  },
  {
   "cell_type": "code",
   "execution_count": null,
   "metadata": {},
   "outputs": [],
   "source": [
    "# Calculate the memory usage in MB and GB\n",
    "memory_usage_mb = df_team_stats.memory_usage(deep=True).sum() / (1024 * 1024)\n",
    "memory_usage_gb = memory_usage_mb / 1024\n",
    "\n",
    "memory_usage_mb, memory_usage_gb"
   ]
  },
  {
   "cell_type": "code",
   "execution_count": null,
   "metadata": {},
   "outputs": [],
   "source": [
    "import pandas as pd\n",
    "\n",
    "# Collect data for multiple weeks\n",
    "all_weeks_data = []\n",
    "for week in range(1, 14):  # Weeks 1-6\n",
    "    week_data = get_games_team_box(year=2024, week=week, classification=\"fbs\")\n",
    "    all_weeks_data.extend(week_data)\n",
    "\n",
    "df_team_stats = pd.DataFrame(all_weeks_data)\n",
    "\n",
    "# Display column names\n",
    "print(\"\\nTeam Box Scores Columns (2024):\")\n",
    "print(df_team_stats.columns.tolist())\n",
    "df_team_stats"
   ]
  },
  {
   "cell_type": "code",
   "execution_count": null,
   "metadata": {},
   "outputs": [],
   "source": [
    "### Expand data"
   ]
  },
  {
   "cell_type": "code",
   "execution_count": null,
   "metadata": {},
   "outputs": [],
   "source": [
    "# Expand the 'teams' column into separate rows\n",
    "expanded_data = []\n",
    "for game in df_team_stats.itertuples():\n",
    "    game_id = game.id\n",
    "    for team in game.teams:\n",
    "        team_entry = {\n",
    "            \"game_id\": game_id,\n",
    "            \"teamId\": team[\"teamId\"],\n",
    "            \"team\": team[\"team\"],\n",
    "            \"conference\": team.get(\"conference\", None),\n",
    "            \"homeAway\": team[\"homeAway\"],\n",
    "            \"points\": team[\"points\"],\n",
    "        }\n",
    "\n",
    "        # Extract statistics from the 'stats' field\n",
    "        for stat in team[\"stats\"]:\n",
    "            team_entry[stat[\"category\"]] = stat[\"stat\"]\n",
    "\n",
    "        expanded_data.append(team_entry)\n",
    "\n",
    "df_final = pd.DataFrame(expanded_data)\n",
    "\n",
    "print(\"\\nFully Expanded Team Box Scores Columns (2024):\")\n",
    "print(df_final.columns.tolist())\n",
    "\n",
    "pd.set_option(\"display.max_columns\", None)\n",
    "pd.set_option(\"display.width\", 1000)\n",
    "\n",
    "# Now display the DataFrame\n",
    "display(df_final.head())\n",
    "display(df_final.shape)"
   ]
  },
  {
   "cell_type": "markdown",
   "metadata": {},
   "source": [
    "## Get games example"
   ]
  },
  {
   "cell_type": "code",
   "execution_count": null,
   "metadata": {},
   "outputs": [],
   "source": [
    "## Data cleaning"
   ]
  },
  {
   "cell_type": "code",
   "execution_count": null,
   "metadata": {},
   "outputs": [],
   "source": [
    "### Duplicates - none"
   ]
  },
  {
   "cell_type": "code",
   "execution_count": null,
   "metadata": {},
   "outputs": [],
   "source": [
    "# Count duplicate rows\n",
    "duplicate_count = df_final.duplicated().sum()\n",
    "print(f\"\\nNumber of duplicate rows: {duplicate_count}\")\n",
    "\n",
    "if duplicate_count > 0:\n",
    "    display(df_final[df_final.duplicated()])"
   ]
  },
  {
   "cell_type": "code",
   "execution_count": null,
   "metadata": {},
   "outputs": [],
   "source": [
    "### Missing values"
   ]
  },
  {
   "cell_type": "code",
   "execution_count": null,
   "metadata": {
    "scrolled": false
   },
   "outputs": [],
   "source": [
    "# Count missing values per column\n",
    "missing_counts = df_final.isnull().sum()\n",
    "missing_percent = (missing_counts / len(df_final)) * 100\n",
    "\n",
    "missing_data = missing_counts[missing_counts > 0]\n",
    "print(\"\\nMissing Values Count:\")\n",
    "print(missing_data)\n",
    "\n",
    "print(\"\\nMissing Data Percentage:\")\n",
    "print(missing_percent[missing_percent > 0])"
   ]
  },
  {
   "cell_type": "code",
   "execution_count": null,
   "metadata": {},
   "outputs": [],
   "source": [
    "# remove missing data cols **defensive stats few missing values are excluded for now for model simplicity\n",
    "import pandas as pd\n",
    "\n",
    "# Identify columns with missing values\n",
    "missing_cols = df_final.columns[df_final.isnull().sum() > 0]\n",
    "print(f\"\\nDropping columns with missing values: {list(missing_cols)}\")\n",
    "\n",
    "df_final.drop(columns=missing_cols, inplace=True)\n",
    "\n",
    "# Verify that no missing values remain\n",
    "print(\"\\nMissing Values After Dropping Columns:\")\n",
    "print(df_final.isnull().sum().sum())\n",
    "\n",
    "print(f\"\\nNew Dataset Shape: {df_final.shape}\")\n",
    "\n",
    "display(df_final.head())"
   ]
  },
  {
   "cell_type": "code",
   "execution_count": null,
   "metadata": {},
   "outputs": [],
   "source": [
    "### Check Data type"
   ]
  },
  {
   "cell_type": "code",
   "execution_count": null,
   "metadata": {},
   "outputs": [],
   "source": [
    "print(\"\\nData Types:\")\n",
    "print(df_final.dtypes)"
   ]
  },
  {
   "cell_type": "code",
   "execution_count": null,
   "metadata": {},
   "outputs": [],
   "source": [
    "# Convert \"X-Y\" format to percentage\n",
    "def convert_to_percentage(column):\n",
    "    return (\n",
    "        df_final[column]\n",
    "        .str.split(\"-\")\n",
    "        .apply(\n",
    "            lambda x: (int(x[0]) / int(x[1]) * 100)\n",
    "            if len(x) == 2 and int(x[1]) > 0\n",
    "            else 0\n",
    "        )\n",
    "    )\n",
    "\n",
    "\n",
    "df_final[\"thirdDownConvRate\"] = convert_to_percentage(\"thirdDownEff\")\n",
    "df_final[\"fourthDownConvRate\"] = convert_to_percentage(\"fourthDownEff\")\n",
    "df_final[\"completionRate\"] = convert_to_percentage(\"completionAttempts\")\n",
    "\n",
    "# Drop old columns\n",
    "df_final.drop(\n",
    "    columns=[\"thirdDownEff\", \"fourthDownEff\", \"completionAttempts\"], inplace=True\n",
    ")"
   ]
  },
  {
   "cell_type": "code",
   "execution_count": null,
   "metadata": {},
   "outputs": [],
   "source": [
    "df_final[\"penalties\"] = (\n",
    "    df_final[\"totalPenaltiesYards\"].str.split(\"-\").str[0].astype(int)\n",
    ")\n",
    "df_final[\"penaltyYards\"] = (\n",
    "    df_final[\"totalPenaltiesYards\"].str.split(\"-\").str[1].astype(int)\n",
    ")\n",
    "\n",
    "# Drop old column\n",
    "df_final.drop(columns=[\"totalPenaltiesYards\"], inplace=True)"
   ]
  },
  {
   "cell_type": "code",
   "execution_count": null,
   "metadata": {},
   "outputs": [],
   "source": [
    "df_final[\"possessionTimeSec\"] = (\n",
    "    df_final[\"possessionTime\"]\n",
    "    .str.split(\":\")\n",
    "    .apply(\n",
    "        lambda x: int(x[0]) * 60 + int(x[1])\n",
    "        if isinstance(x, list) and len(x) == 2\n",
    "        else 0\n",
    "    )\n",
    ")\n",
    "\n",
    "# Drop old column\n",
    "df_final.drop(columns=[\"possessionTime\"], inplace=True)"
   ]
  },
  {
   "cell_type": "code",
   "execution_count": null,
   "metadata": {},
   "outputs": [],
   "source": [
    "# Convert numeric columns that were stored as objects\n",
    "numeric_columns = [\n",
    "    \"points\",\n",
    "    \"firstDowns\",\n",
    "    \"totalYards\",\n",
    "    \"netPassingYards\",\n",
    "    \"yardsPerPass\",\n",
    "    \"rushingYards\",\n",
    "    \"rushingAttempts\",\n",
    "    \"yardsPerRushAttempt\",\n",
    "    \"turnovers\",\n",
    "    \"fumblesLost\",\n",
    "    \"interceptions\",\n",
    "    \"fumblesRecovered\",\n",
    "    \"passingTDs\",\n",
    "    \"rushingTDs\",\n",
    "    \"thirdDownConvRate\",\n",
    "    \"fourthDownConvRate\",\n",
    "    \"completionRate\",\n",
    "    \"penalties\",\n",
    "    \"penaltyYards\",\n",
    "    \"possessionTimeSec\",\n",
    "]\n",
    "\n",
    "df_final[numeric_columns] = df_final[numeric_columns].apply(pd.to_numeric)"
   ]
  },
  {
   "cell_type": "code",
   "execution_count": null,
   "metadata": {
    "scrolled": false
   },
   "outputs": [],
   "source": [
    "# Check if all data types are correct\n",
    "print(df_final.dtypes)\n",
    "\n",
    "display(df_final.head())"
   ]
  },
  {
   "cell_type": "code",
   "execution_count": null,
   "metadata": {
    "scrolled": true
   },
   "outputs": [],
   "source": [
    "# Create 'win' column: 1 if the team won, 0 if lost\n",
    "df_final[\"win\"] = df_final.groupby(\"game_id\")[\"points\"].transform(\n",
    "    lambda x: (x == x.max()).astype(int)\n",
    ")\n",
    "\n",
    "# Drop 'points' since it's the outcome, and we don't want data leakage\n",
    "df_final.drop(columns=[\"points\"], inplace=True)\n",
    "\n",
    "# Verify changes\n",
    "display(df_final.head())\n",
    "df_final.columns"
   ]
  },
  {
   "cell_type": "code",
   "execution_count": null,
   "metadata": {},
   "outputs": [],
   "source": [
    "# Standardize features"
   ]
  },
  {
   "cell_type": "code",
   "execution_count": null,
   "metadata": {},
   "outputs": [],
   "source": [
    "from sklearn.preprocessing import StandardScaler\n",
    "\n",
    "# Identify numeric columns to standardize\n",
    "exclude_columns = [\"game_id\", \"teamId\", \"team\", \"conference\", \"homeAway\", \"win\"]\n",
    "numeric_features = df_final.drop(\n",
    "    columns=exclude_columns, errors=\"ignore\"\n",
    ").select_dtypes(include=[np.number])\n",
    "\n",
    "scaler = StandardScaler()\n",
    "\n",
    "# Fit and transform the numeric features\n",
    "df_scaled = pd.DataFrame(\n",
    "    scaler.fit_transform(numeric_features), columns=numeric_features.columns\n",
    ")\n",
    "\n",
    "# Reattach non-numeric columns\n",
    "df_standardized = df_final[exclude_columns].reset_index(drop=True).join(df_scaled)\n",
    "\n",
    "display(df_standardized.head())"
   ]
  },
  {
   "cell_type": "code",
   "execution_count": null,
   "metadata": {},
   "outputs": [],
   "source": [
    "# VIF"
   ]
  },
  {
   "cell_type": "code",
   "execution_count": null,
   "metadata": {},
   "outputs": [],
   "source": [
    "from statsmodels.stats.outliers_influence import variance_inflation_factor\n",
    "import pandas as pd\n",
    "import numpy as np\n",
    "\n",
    "# Drop non-numeric and target variable columns\n",
    "exclude_columns = [\"win\", \"game_id\", \"teamId\", \"team\", \"conference\", \"homeAway\"]\n",
    "numeric_features = df_standardized.drop(\n",
    "    columns=exclude_columns, errors=\"ignore\"\n",
    ").select_dtypes(include=[np.number])\n",
    "\n",
    "# Compute VIF scores\n",
    "vif_data = pd.DataFrame()\n",
    "vif_data[\"Feature\"] = numeric_features.columns\n",
    "vif_data[\"VIF\"] = [\n",
    "    variance_inflation_factor(numeric_features.values, i)\n",
    "    for i in range(numeric_features.shape[1])\n",
    "]\n",
    "\n",
    "# Display VIF scores\n",
    "print(vif_data)"
   ]
  },
  {
   "cell_type": "code",
   "execution_count": null,
   "metadata": {
    "scrolled": true
   },
   "outputs": [],
   "source": [
    "# Drop non-numeric and target variable columns\n",
    "exclude_columns = [\n",
    "    \"win\",\n",
    "    \"game_id\",\n",
    "    \"teamId\",\n",
    "    \"team\",\n",
    "    \"conference\",\n",
    "    \"homeAway\",\n",
    "    \"totalYards\",\n",
    "    \"turnovers\",\n",
    "    \"rushingAttempts\",\n",
    "    \"yardsPerRushAttempt\",\n",
    "    \"yardsPerPass\",\n",
    "    \"penalties\",\n",
    "]\n",
    "numeric_features = df_standardized.drop(\n",
    "    columns=exclude_columns, errors=\"ignore\"\n",
    ").select_dtypes(include=[np.number])\n",
    "\n",
    "# Compute VIF scores\n",
    "vif_data = pd.DataFrame()\n",
    "vif_data[\"Feature\"] = numeric_features.columns\n",
    "vif_data[\"VIF\"] = [\n",
    "    variance_inflation_factor(numeric_features.values, i)\n",
    "    for i in range(numeric_features.shape[1])\n",
    "]\n",
    "\n",
    "print(vif_data)"
   ]
  },
  {
   "cell_type": "code",
   "execution_count": null,
   "metadata": {
    "scrolled": true
   },
   "outputs": [],
   "source": [
    "import scipy.stats as stats\n",
    "import matplotlib.pyplot as plt\n",
    "import seaborn as sns\n",
    "\n",
    "# Define numerical features\n",
    "num_features = [\n",
    "    \"firstDowns\",\n",
    "    \"netPassingYards\",\n",
    "    \"rushingYards\",\n",
    "    \"fumblesLost\",\n",
    "    \"interceptions\",\n",
    "    \"fumblesRecovered\",\n",
    "    \"passingTDs\",\n",
    "    \"rushingTDs\",\n",
    "    \"thirdDownConvRate\",\n",
    "    \"fourthDownConvRate\",\n",
    "    \"completionRate\",\n",
    "    \"penaltyYards\",\n",
    "    \"possessionTimeSec\",\n",
    "]\n",
    "\n",
    "# 1. Descriptive statistics for each feature split by win/loss\n",
    "desc_stats = df_final.groupby(\"win\")[num_features].describe().T\n",
    "\n",
    "# 2. Point-biserial correlation between numerical features and target variable\n",
    "corr_results = {\n",
    "    feature: stats.pointbiserialr(df_final[feature], df_final[\"win\"]).correlation\n",
    "    for feature in num_features\n",
    "}\n",
    "corr_df = pd.DataFrame(\n",
    "    list(corr_results.items()), columns=[\"Feature\", \"Point-Biserial Correlation\"]\n",
    ")\n",
    "\n",
    "# 3. Independent t-tests for mean differences between win (1) and loss (0)\n",
    "t_test_results = {}\n",
    "for feature in num_features:\n",
    "    win_values = df_final[df_final[\"win\"] == 1][feature]\n",
    "    loss_values = df_final[df_final[\"win\"] == 0][feature]\n",
    "    t_stat, p_value = stats.ttest_ind(win_values, loss_values, equal_var=False)\n",
    "    t_test_results[feature] = {\"t-statistic\": t_stat, \"p-value\": p_value}\n",
    "\n",
    "t_test_df = (\n",
    "    pd.DataFrame.from_dict(t_test_results, orient=\"index\")\n",
    "    .reset_index()\n",
    "    .rename(columns={\"index\": \"Feature\"})\n",
    ")\n",
    "\n",
    "# 4. Display the results as tables\n",
    "print(\"\\n--- Descriptive Statistics by Win/Loss ---\\n\")\n",
    "print(desc_stats)\n",
    "\n",
    "print(\"\\n--- Point-Biserial Correlation with Win ---\\n\")\n",
    "print(corr_df)\n",
    "\n",
    "print(\"\\n--- T-Test Results for Mean Differences ---\\n\")\n",
    "print(t_test_df)"
   ]
  },
  {
   "cell_type": "markdown",
   "metadata": {},
   "source": [
    "# Visuals "
   ]
  },
  {
   "cell_type": "code",
   "execution_count": null,
   "metadata": {
    "scrolled": true
   },
   "outputs": [],
   "source": [
    "import matplotlib.pyplot as plt\n",
    "import seaborn as sns\n",
    "\n",
    "# Set plot style\n",
    "sns.set_style(\"whitegrid\")\n",
    "\n",
    "# Features to visualize\n",
    "top_features = [\n",
    "    \"rushingYards\",\n",
    "    \"firstDowns\",\n",
    "    \"rushingTDs\",\n",
    "    \"thirdDownConvRate\",\n",
    "    \"passingTDs\",\n",
    "    \"completionRate\",\n",
    "    \"interceptions\",\n",
    "    \"fumblesLost\",\n",
    "    \"possessionTimeSec\",\n",
    "]\n",
    "\n",
    "# Boxplots for key features split by win/loss\n",
    "for feature in top_features:\n",
    "    plt.figure(figsize=(8, 5))\n",
    "    sns.boxplot(x=df_final[\"win\"], y=df_final[feature], palette=\"coolwarm\")\n",
    "    plt.title(f\"Boxplot of {feature} by Win/Loss\")\n",
    "    plt.xlabel(\"Win (0 = Loss, 1 = Win)\")\n",
    "    plt.ylabel(feature)\n",
    "    plt.show()\n",
    "\n",
    "# Correlation Heatmap for numerical features vs. win\n",
    "plt.figure(figsize=(10, 8))\n",
    "sns.heatmap(\n",
    "    df_final[top_features + [\"win\"]].corr(), annot=True, cmap=\"coolwarm\", fmt=\".2f\"\n",
    ")\n",
    "plt.title(\"Correlation Heatmap of Key Features with Win\")\n",
    "plt.show()\n",
    "\n",
    "# Violin plot for thirdDownConvRate vs. win (shows distribution shape)\n",
    "plt.figure(figsize=(8, 5))\n",
    "sns.violinplot(x=df_final[\"win\"], y=df_final[\"thirdDownConvRate\"], palette=\"muted\")\n",
    "plt.title(\"Distribution of Third Down Conversion Rate by Win/Loss\")\n",
    "plt.xlabel(\"Win (0 = Loss, 1 = Win)\")\n",
    "plt.ylabel(\"Third Down Conversion Rate\")\n",
    "plt.show()"
   ]
  },
  {
   "cell_type": "code",
   "execution_count": null,
   "metadata": {},
   "outputs": [],
   "source": [
    "## feature engineering --- potential add more featers like yards per play. turnover margin"
   ]
  },
  {
   "cell_type": "code",
   "execution_count": null,
   "metadata": {},
   "outputs": [],
   "source": [
    "# Define new feature set without passingTDs and rushingTDs\n",
    "top_features = [\n",
    "    \"rushingYards\",\n",
    "    \"firstDowns\",\n",
    "    \"thirdDownConvRate\",\n",
    "    \"completionRate\",\n",
    "    \"interceptions\",\n",
    "    \"fumblesLost\",\n",
    "    \"possessionTimeSec\",\n",
    "]\n",
    "\n",
    "# Select numeric features\n",
    "X = df_final[top_features]\n",
    "y = df_final[\"win\"]"
   ]
  },
  {
   "cell_type": "markdown",
   "metadata": {},
   "source": [
    "# basic LogReg Model"
   ]
  },
  {
   "cell_type": "code",
   "execution_count": null,
   "metadata": {},
   "outputs": [],
   "source": [
    "from sklearn.model_selection import train_test_split\n",
    "from sklearn.linear_model import LogisticRegression\n",
    "from sklearn.metrics import accuracy_score, classification_report\n",
    "\n",
    "# Train-test split\n",
    "X_train, X_test, y_train, y_test = train_test_split(\n",
    "    X, y, test_size=0.2, random_state=42\n",
    ")\n",
    "\n",
    "# Train logistic regression\n",
    "log_model = LogisticRegression(max_iter=1000)\n",
    "log_model.fit(X_train, y_train)\n",
    "\n",
    "# Predictions\n",
    "y_pred = log_model.predict(X_test)\n",
    "\n",
    "# Evaluate\n",
    "print(\"Accuracy:\", accuracy_score(y_test, y_pred))\n",
    "print(classification_report(y_test, y_pred))"
   ]
  },
  {
   "cell_type": "code",
   "execution_count": null,
   "metadata": {
    "scrolled": false
   },
   "outputs": [],
   "source": [
    "from sklearn.metrics import confusion_matrix, ConfusionMatrixDisplay\n",
    "import matplotlib.pyplot as plt\n",
    "\n",
    "# Compute confusion matrix\n",
    "cm = confusion_matrix(y_test, y_pred)\n",
    "\n",
    "# Display confusion matrix\n",
    "disp = ConfusionMatrixDisplay(confusion_matrix=cm, display_labels=[\"Loss\", \"Win\"])\n",
    "disp.plot(cmap=\"Blues\")\n",
    "plt.title(\"Logistic Regression Confusion Matrix\")\n",
    "plt.show()"
   ]
  },
  {
   "cell_type": "code",
   "execution_count": null,
   "metadata": {},
   "outputs": [],
   "source": [
    "import numpy as np\n",
    "\n",
    "# Extract feature importance (coefficients)\n",
    "coefs = log_model.coef_[0]\n",
    "features = X.columns\n",
    "\n",
    "# Sort by absolute impact\n",
    "sorted_indices = np.argsort(np.abs(coefs))[::-1]\n",
    "\n",
    "plt.figure(figsize=(8, 5))\n",
    "plt.barh(np.array(features)[sorted_indices], coefs[sorted_indices], color=\"blue\")\n",
    "plt.xlabel(\"Coefficient Value\")\n",
    "plt.ylabel(\"Feature\")\n",
    "plt.title(\"Feature Importance in Logistic Regression\")\n",
    "plt.axvline(0, color=\"black\", linestyle=\"dashed\")\n",
    "plt.show()"
   ]
  },
  {
   "cell_type": "code",
   "execution_count": null,
   "metadata": {},
   "outputs": [],
   "source": [
    "from sklearn.metrics import roc_curve, auc\n",
    "\n",
    "# Get probability scores for the positive class (win)\n",
    "y_prob = log_model.predict_proba(X_test)[:, 1]\n",
    "\n",
    "# Compute ROC curve\n",
    "fpr, tpr, _ = roc_curve(y_test, y_prob)\n",
    "roc_auc = auc(fpr, tpr)\n",
    "\n",
    "# Plot ROC curve\n",
    "plt.figure(figsize=(8, 5))\n",
    "plt.plot(fpr, tpr, color=\"blue\", label=f\"ROC Curve (AUC = {roc_auc:.2f})\")\n",
    "plt.plot([0, 1], [0, 1], color=\"gray\", linestyle=\"dashed\")  # Random guess line\n",
    "plt.xlabel(\"False Positive Rate\")\n",
    "plt.ylabel(\"True Positive Rate\")\n",
    "plt.title(\"ROC Curve for Logistic Regression\")\n",
    "plt.legend()\n",
    "plt.show()"
   ]
  },
  {
   "cell_type": "code",
   "execution_count": null,
   "metadata": {},
   "outputs": [],
   "source": [
    "from sklearn.ensemble import RandomForestClassifier\n",
    "from sklearn.model_selection import train_test_split\n",
    "from sklearn.metrics import accuracy_score, classification_report\n",
    "\n",
    "# Split data\n",
    "X_train, X_test, y_train, y_test = train_test_split(\n",
    "    X, y, test_size=0.2, random_state=42\n",
    ")\n",
    "\n",
    "# Initialize and train Random Forest\n",
    "rf_model = RandomForestClassifier(n_estimators=100, max_depth=None, random_state=42)\n",
    "rf_model.fit(X_train, y_train)\n",
    "\n",
    "# Predictions\n",
    "y_pred_rf = rf_model.predict(X_test)\n",
    "\n",
    "# Evaluate\n",
    "print(\"Random Forest Accuracy:\", accuracy_score(y_test, y_pred_rf))\n",
    "print(\n",
    "    \"\\nRandom Forest Classification Report:\\n\", classification_report(y_test, y_pred_rf)\n",
    ")"
   ]
  },
  {
   "cell_type": "code",
   "execution_count": null,
   "metadata": {},
   "outputs": [],
   "source": [
    "from xgboost import XGBClassifier\n",
    "\n",
    "# Initialize and train XGBoost\n",
    "xgb_model = XGBClassifier(\n",
    "    n_estimators=100, learning_rate=0.1, max_depth=3, random_state=42\n",
    ")\n",
    "xgb_model.fit(X_train, y_train)\n",
    "\n",
    "# Predictions\n",
    "y_pred_xgb = xgb_model.predict(X_test)\n",
    "\n",
    "# Evaluate\n",
    "print(\"XGBoost Accuracy:\", accuracy_score(y_test, y_pred_xgb))\n",
    "print(\"\\nXGBoost Classification Report:\\n\", classification_report(y_test, y_pred_xgb))"
   ]
  },
  {
   "cell_type": "code",
   "execution_count": null,
   "metadata": {},
   "outputs": [],
   "source": []
  },
  {
   "cell_type": "markdown",
   "metadata": {},
   "source": [
    "## Box Score Data Example"
   ]
  },
  {
   "cell_type": "code",
   "execution_count": null,
   "metadata": {},
   "outputs": [],
   "source": [
    "# Convert games_data to a DataFrame\n",
    "games_df = pd.DataFrame(games_data)\n",
    "\n",
    "# Display the first few rows\n",
    "print(\"\\nGames Data:\")\n",
    "display(games_df.head())\n",
    "\n",
    "# Show column names\n",
    "print(\"\\nColumns in Games Data:\")\n",
    "print(games_df.columns.tolist())"
   ]
  },
  {
   "cell_type": "code",
   "execution_count": null,
   "metadata": {
    "scrolled": true
   },
   "outputs": [],
   "source": [
    "games = get_games(year=2024, session_type=\"regular\", classification=\"fbs\")\n",
    "df_games = pd.DataFrame(games)\n",
    "\n",
    "# Extract winner & loser\n",
    "df_games[\"home_win\"] = df_games.apply(\n",
    "    lambda row: 1 if row[\"homePoints\"] > row[\"awayPoints\"] else 0, axis=1\n",
    ")\n",
    "\n",
    "display(df_games.head())"
   ]
  },
  {
   "cell_type": "code",
   "execution_count": null,
   "metadata": {
    "scrolled": true
   },
   "outputs": [],
   "source": [
    "team_stats = []\n",
    "for week in range(1, 14):  # Adjust based on season length\n",
    "    week_data = get_games_team_box(year=2024, week=week)\n",
    "    team_stats.extend(week_data)\n",
    "\n",
    "df_team_stats = pd.DataFrame(team_stats)\n",
    "display(df_team_stats.head())"
   ]
  },
  {
   "cell_type": "code",
   "execution_count": null,
   "metadata": {},
   "outputs": [],
   "source": []
  },
  {
   "cell_type": "markdown",
   "metadata": {},
   "source": [
    "## Get team box scores example"
   ]
  },
  {
   "cell_type": "code",
   "execution_count": null,
   "metadata": {},
   "outputs": [],
   "source": [
    "team_stats = get_games_team_box(year=2023, team=\"Alabama\")\n",
    "print(\"\\nTeam Box Scores:\")\n",
    "pd.DataFrame(team_stats).head()"
   ]
  },
  {
   "cell_type": "code",
   "execution_count": null,
   "metadata": {},
   "outputs": [],
   "source": [
    "team_stats = []\n",
    "for week in range(1, 14):  # Adjust based on season length\n",
    "    week_data = get_games_team_box(year=2024, week=week)\n",
    "    team_stats.extend(week_data)\n",
    "\n",
    "df_team_stats = pd.DataFrame(team_stats)\n",
    "display(df_team_stats.head())"
   ]
  },
  {
   "cell_type": "markdown",
   "metadata": {},
   "source": [
    "## Get player stats example\n"
   ]
  },
  {
   "cell_type": "code",
   "execution_count": null,
   "metadata": {
    "scrolled": true
   },
   "outputs": [],
   "source": [
    "player_stats = get_player_stats(\n",
    "    year=2023,\n",
    "    # team='Georgia',\n",
    "    season_type=\"regular\",\n",
    "    week=1,\n",
    ")\n",
    "print(\"\\nPlayer Stats:\")\n",
    "pd.DataFrame(player_stats).head()\n",
    "player_stats.shape"
   ]
  },
  {
   "cell_type": "code",
   "execution_count": null,
   "metadata": {},
   "outputs": [],
   "source": [
    "player_stats.shape()"
   ]
  },
  {
   "cell_type": "code",
   "execution_count": null,
   "metadata": {},
   "outputs": [],
   "source": [
    "import stats\n",
    "\n",
    "players = stats.get_player_season_stats(year=2023, season_type=\"regular\")"
   ]
  },
  {
   "cell_type": "code",
   "execution_count": null,
   "metadata": {
    "scrolled": true
   },
   "outputs": [],
   "source": [
    "pd.DataFrame(players)"
   ]
  },
  {
   "cell_type": "code",
   "execution_count": null,
   "metadata": {},
   "outputs": [],
   "source": [
    "import pandas as pd\n",
    "\n",
    "# Assuming 'players' is already a DataFrame\n",
    "df = pd.DataFrame(players)\n",
    "\n",
    "# List of all FBS conferences\n",
    "fbs_conferences = [\n",
    "    \"ACC\",\n",
    "    \"Big Ten\",\n",
    "    \"Big 12\",\n",
    "    \"Pac-12\",\n",
    "    \"SEC\",  # Power Five\n",
    "    \"AAC\",\n",
    "    \"C-USA\",\n",
    "    \"MAC\",\n",
    "    \"Mountain West\",\n",
    "    \"Sun Belt\",  # Group of Five\n",
    "]\n",
    "\n",
    "# Filter to include only FBS teams\n",
    "fbs_teams_df = df[df[\"conference\"].isin(fbs_conferences)]\n",
    "\n",
    "# Display the filtered DataFrame\n",
    "print(fbs_teams_df.head(1000))"
   ]
  },
  {
   "cell_type": "code",
   "execution_count": null,
   "metadata": {},
   "outputs": [],
   "source": [
    "# Calculate the memory usage in MB and GB\n",
    "memory_usage_mb = fbs_teams_df.memory_usage(deep=True).sum() / (1024 * 1024)\n",
    "memory_usage_gb = memory_usage_mb / 1024\n",
    "\n",
    "memory_usage_mb, memory_usage_gb"
   ]
  },
  {
   "cell_type": "code",
   "execution_count": null,
   "metadata": {},
   "outputs": [],
   "source": [
    "import pandas as pd\n",
    "\n",
    "# Assuming player_stats is already loaded into a DataFrame\n",
    "df = pd.DataFrame(player_stats)\n",
    "\n",
    "# Check the structure of the 'teams' column\n",
    "print(\"\\nSample 'teams' Column Data:\")\n",
    "print(df[\"teams\"].head())  # Print first few entries to inspect the structure\n",
    "\n",
    "# If needed, expand a single entry in detail\n",
    "print(\"\\nDetailed structure of the first 'teams' entry:\")\n",
    "if isinstance(df[\"teams\"].iloc[0], list):\n",
    "    for i, team in enumerate(df[\"teams\"].iloc[0]):\n",
    "        print(f\"Team {i+1}: {team}\")\n",
    "\n",
    "# If teams contain nested dictionaries/lists, this helps us see what needs to be flattened."
   ]
  },
  {
   "cell_type": "code",
   "execution_count": null,
   "metadata": {
    "scrolled": true
   },
   "outputs": [],
   "source": [
    "import pandas as pd\n",
    "\n",
    "# Assuming player_stats is already in a DataFrame\n",
    "df = pd.DataFrame(player_stats)\n",
    "\n",
    "# Expand the 'teams' column into separate rows\n",
    "expanded_data = []\n",
    "for game in df.itertuples():\n",
    "    game_id = game.id  # Game ID\n",
    "\n",
    "    for team in game.teams:\n",
    "        team_entry = {\n",
    "            \"game_id\": game_id,\n",
    "            \"team\": team[\"team\"],\n",
    "            \"conference\": team.get(\"conference\", None),\n",
    "            \"homeAway\": team[\"homeAway\"],\n",
    "            \"points\": team[\"points\"],\n",
    "        }\n",
    "\n",
    "        # Extract player stats from 'categories'\n",
    "        for category in team.get(\n",
    "            \"categories\", []\n",
    "        ):  # Iterate through categories (e.g., punting, kicking)\n",
    "            category_name = category[\"name\"]\n",
    "\n",
    "            for stat_type in category.get(\n",
    "                \"types\", []\n",
    "            ):  # Iterate through specific stat types\n",
    "                stat_name = stat_type[\"name\"]\n",
    "\n",
    "                for athlete in stat_type.get(\n",
    "                    \"athletes\", []\n",
    "                ):  # Iterate through athlete-specific stats\n",
    "                    athlete_entry = team_entry.copy()\n",
    "                    athlete_entry[\"player_id\"] = athlete[\"id\"]\n",
    "                    athlete_entry[\"player_name\"] = athlete[\"name\"]\n",
    "                    athlete_entry[f\"{category_name}_{stat_name}\"] = athlete[\"stat\"]\n",
    "\n",
    "                    expanded_data.append(athlete_entry)\n",
    "\n",
    "# Convert to final DataFrame\n",
    "df_final = pd.DataFrame(expanded_data)\n",
    "\n",
    "# Display all column names\n",
    "print(\"\\nFully Expanded Player Stats Columns (2023):\")\n",
    "print(df_final.columns.tolist())\n",
    "\n",
    "# Expand Pandas display settings to show all columns\n",
    "pd.set_option(\"display.max_columns\", None)\n",
    "pd.set_option(\"display.width\", 1000)  # Increases width for better visibility\n",
    "\n",
    "# Now display the DataFrame\n",
    "display(df_final.head(30))\n",
    "display(df_final.shape)"
   ]
  },
  {
   "cell_type": "markdown",
   "metadata": {},
   "source": [
    "## Get team records example"
   ]
  },
  {
   "cell_type": "code",
   "execution_count": null,
   "metadata": {},
   "outputs": [],
   "source": [
    "team_records = get_team_records(year=2023, conference=\"SEC\")\n",
    "pd.DataFrame(team_records).head()"
   ]
  },
  {
   "cell_type": "markdown",
   "metadata": {},
   "source": [
    "# Drives"
   ]
  },
  {
   "cell_type": "markdown",
   "metadata": {},
   "source": []
  },
  {
   "cell_type": "markdown",
   "metadata": {},
   "source": [
    "# Plays"
   ]
  },
  {
   "cell_type": "markdown",
   "metadata": {},
   "source": []
  },
  {
   "cell_type": "markdown",
   "metadata": {},
   "source": [
    "# Teams"
   ]
  },
  {
   "cell_type": "markdown",
   "metadata": {},
   "source": []
  },
  {
   "cell_type": "markdown",
   "metadata": {},
   "source": [
    "# Conferences"
   ]
  },
  {
   "cell_type": "code",
   "execution_count": null,
   "metadata": {},
   "outputs": [],
   "source": []
  },
  {
   "cell_type": "markdown",
   "metadata": {},
   "source": [
    "# Venues"
   ]
  },
  {
   "cell_type": "code",
   "execution_count": null,
   "metadata": {},
   "outputs": [],
   "source": []
  },
  {
   "cell_type": "markdown",
   "metadata": {},
   "source": [
    "# Coaches"
   ]
  },
  {
   "cell_type": "markdown",
   "metadata": {},
   "source": []
  },
  {
   "cell_type": "markdown",
   "metadata": {},
   "source": [
    "# Players"
   ]
  },
  {
   "cell_type": "code",
   "execution_count": null,
   "metadata": {},
   "outputs": [],
   "source": [
    "import players\n",
    "\n",
    "# Search for a player\n",
    "caleb_williams = players.search_players(search_term=\"Caleb Williams\", year=2023)\n",
    "display(caleb_williams)\n",
    "\n",
    "# Get player usage for 2023 season\n",
    "qb_usage = players.get_player_usage(year=2023, position=\"QB\")\n",
    "display(qb_usage)\n",
    "\n",
    "# Get returning production for a team\n",
    "usc_returning = players.get_player_returning(year=2024, team=\"USC\")\n",
    "display(usc_returning)"
   ]
  },
  {
   "cell_type": "markdown",
   "metadata": {},
   "source": [
    "# Rankings"
   ]
  },
  {
   "cell_type": "markdown",
   "metadata": {},
   "source": []
  },
  {
   "cell_type": "markdown",
   "metadata": {},
   "source": [
    "# Betting"
   ]
  },
  {
   "cell_type": "markdown",
   "metadata": {},
   "source": []
  },
  {
   "cell_type": "markdown",
   "metadata": {},
   "source": [
    "# Recruiting"
   ]
  },
  {
   "cell_type": "code",
   "execution_count": null,
   "metadata": {},
   "outputs": [],
   "source": [
    "import recruiting\n",
    "\n",
    "# Get recruiting player rankings for 2024\n",
    "players_2024 = recruiting.get_recruiting_players(year=2024)\n",
    "display(players_2024)\n",
    "\n",
    "# Get team recruiting rankings for 2024\n",
    "teams_2024 = recruiting.get_recruiting_teams(year=2024)\n",
    "display(teams_2024)"
   ]
  },
  {
   "cell_type": "markdown",
   "metadata": {},
   "source": [
    "# Ratings"
   ]
  },
  {
   "cell_type": "code",
   "execution_count": null,
   "metadata": {},
   "outputs": [],
   "source": [
    "import ratings\n",
    "\n",
    "# Get SP+ ratings for 2024\n",
    "sp_ratings_2024 = ratings.get_sp_ratings(year=2024, team=None)\n",
    "display(sp_ratings_2024)\n",
    "\n",
    "# Get conference SP+ ratings for 2024\n",
    "conf_ratings_2024 = ratings.get_sp_conference_ratings(year=2024)\n",
    "display(conf_ratings_2024)\n",
    "\n",
    "# Get FPI ratings for USC in 2024\n",
    "usc_fpi = ratings.get_fpi_ratings(year=2024, team=\"USC\")\n",
    "display(usc_fpi)\n",
    "\n",
    "# Get Elo ratings for Week 1 of 2024\n",
    "week1_elo = ratings.get_elo_ratings(year=2024, week=1)\n",
    "display(week1_elo)"
   ]
  },
  {
   "cell_type": "markdown",
   "metadata": {},
   "source": [
    "# Metrics"
   ]
  },
  {
   "cell_type": "markdown",
   "metadata": {},
   "source": []
  },
  {
   "cell_type": "markdown",
   "metadata": {},
   "source": [
    "# Stats"
   ]
  },
  {
   "cell_type": "markdown",
   "metadata": {},
   "source": []
  },
  {
   "cell_type": "markdown",
   "metadata": {},
   "source": [
    "# Draft"
   ]
  },
  {
   "cell_type": "code",
   "execution_count": null,
   "metadata": {},
   "outputs": [],
   "source": [
    "import draft\n",
    "import pandas as pd\n",
    "\n",
    "# Get 2024 Draft Data\n",
    "picks_2024 = draft.get_draft_picks(year=2024)\n",
    "picks_2024.head(2)åç"
   ]
  },
  {
   "cell_type": "code",
   "execution_count": null,
   "metadata": {},
   "outputs": [],
   "source": [
    "# Get all available draft positions\n",
    "positions = draft.get_draft_positions()\n",
    "positions.head()"
   ]
  },
  {
   "cell_type": "code",
   "execution_count": null,
   "metadata": {},
   "outputs": [],
   "source": [
    "# Get draft picks for a specific school\n",
    "alabama_picks = draft.get_draft_picks(school=\"Alabama\", year=2024)\n",
    "alabama_picks"
   ]
  },
  {
   "cell_type": "markdown",
   "metadata": {},
   "source": [
    "# Adjusted Metrics"
   ]
  }
 ],
 "metadata": {
  "kernelspec": {
   "display_name": "Python 3 (ipykernel)",
   "language": "python",
   "name": "python3"
  },
  "language_info": {
   "codemirror_mode": {
    "name": "ipython",
    "version": 3
   },
   "file_extension": ".py",
   "mimetype": "text/x-python",
   "name": "python",
   "nbconvert_exporter": "python",
   "pygments_lexer": "ipython3",
   "version": "3.11.5"
  }
 },
 "nbformat": 4,
 "nbformat_minor": 2
}
