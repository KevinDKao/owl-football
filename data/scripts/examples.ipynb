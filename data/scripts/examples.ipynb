{
 "cells": [
  {
   "cell_type": "markdown",
   "metadata": {},
   "source": [
    "# Example Notebook"
   ]
  },
  {
   "cell_type": "markdown",
   "metadata": {},
   "source": [
    "## Games"
   ]
  },
  {
   "cell_type": "code",
   "execution_count": null,
   "metadata": {},
   "outputs": [],
   "source": [
    "# Import packages\n",
    "from IPython.display import display\n",
    "import pandas as pd\n",
    "from games import (\n",
    "    get_games,\n",
    "    get_games_team_box,\n",
    "    get_player_stats,\n",
    "    get_game_weather,\n",
    "    get_team_records,\n",
    ")"
   ]
  },
  {
   "cell_type": "markdown",
   "metadata": {},
   "source": [
    "## Get games example"
   ]
  },
  {
   "cell_type": "code",
   "execution_count": null,
   "metadata": {},
   "outputs": [],
   "source": [
    "games_data = get_games(year=2023, week=1, session_type=\"regular\", classification=\"fbs\")\n",
    "print(\"\\nGames Data:\")\n",
    "pd.DataFrame(games_data).head()"
   ]
  },
  {
   "cell_type": "markdown",
   "metadata": {},
   "source": [
    "## Get team box scores example"
   ]
  },
  {
   "cell_type": "code",
   "execution_count": null,
   "metadata": {},
   "outputs": [],
   "source": [
    "team_stats = get_games_team_box(year=2023, team=\"Alabama\")\n",
    "print(\"\\nTeam Box Scores:\")\n",
    "pd.DataFrame(team_stats).head()"
   ]
  },
  {
   "cell_type": "markdown",
   "metadata": {},
   "source": [
    "## Get player stats example\n"
   ]
  },
  {
   "cell_type": "code",
   "execution_count": null,
   "metadata": {},
   "outputs": [],
   "source": [
    "player_stats = get_player_stats(year=2023, team=\"Georgia\", season_type=\"regular\")\n",
    "print(\"\\nPlayer Stats:\")\n",
    "pd.DataFrame(player_stats).head()"
   ]
  },
  {
   "cell_type": "markdown",
   "metadata": {},
   "source": [
    "## Get team records example"
   ]
  },
  {
   "cell_type": "code",
   "execution_count": null,
   "metadata": {},
   "outputs": [],
   "source": [
    "team_records = get_team_records(year=2023, conference=\"SEC\")\n",
    "pd.DataFrame(team_records).head()"
   ]
  },
  {
   "cell_type": "markdown",
   "metadata": {},
   "source": [
    "# Drives"
   ]
  },
  {
   "cell_type": "markdown",
   "metadata": {},
   "source": []
  },
  {
   "cell_type": "markdown",
   "metadata": {},
   "source": [
    "# Plays"
   ]
  },
  {
   "cell_type": "markdown",
   "metadata": {},
   "source": []
  },
  {
   "cell_type": "markdown",
   "metadata": {},
   "source": [
    "# Teams"
   ]
  },
  {
   "cell_type": "markdown",
   "metadata": {},
   "source": []
  },
  {
   "cell_type": "markdown",
   "metadata": {},
   "source": [
    "# Conferences"
   ]
  },
  {
   "cell_type": "code",
   "execution_count": null,
   "metadata": {},
   "outputs": [],
   "source": []
  },
  {
   "cell_type": "markdown",
   "metadata": {},
   "source": [
    "# Venues"
   ]
  },
  {
   "cell_type": "code",
   "execution_count": null,
   "metadata": {},
   "outputs": [],
   "source": []
  },
  {
   "cell_type": "markdown",
   "metadata": {},
   "source": [
    "# Coaches"
   ]
  },
  {
   "cell_type": "markdown",
   "metadata": {},
   "source": []
  },
  {
   "cell_type": "markdown",
   "metadata": {},
   "source": [
    "# Players"
   ]
  },
  {
   "cell_type": "code",
   "execution_count": null,
   "metadata": {},
   "outputs": [],
   "source": [
    "import players\n",
    "\n",
    "# Search for a player\n",
    "caleb_williams = players.search_players(search_term=\"Caleb Williams\", year=2023)\n",
    "display(caleb_williams)\n",
    "\n",
    "# Get player usage for 2023 season\n",
    "qb_usage = players.get_player_usage(year=2023, position=\"QB\")\n",
    "display(qb_usage)\n",
    "\n",
    "# Get returning production for a team\n",
    "usc_returning = players.get_player_returning(year=2024, team=\"USC\")\n",
    "display(usc_returning)"
   ]
  },
  {
   "cell_type": "markdown",
   "metadata": {},
   "source": [
    "# Rankings"
   ]
  },
  {
   "cell_type": "markdown",
   "metadata": {},
   "source": []
  },
  {
   "cell_type": "markdown",
   "metadata": {},
   "source": [
    "# Betting"
   ]
  },
  {
   "cell_type": "markdown",
   "metadata": {},
   "source": []
  },
  {
   "cell_type": "markdown",
   "metadata": {},
   "source": [
    "# Recruiting"
   ]
  },
  {
   "cell_type": "code",
   "execution_count": null,
   "metadata": {},
   "outputs": [],
   "source": [
    "import recruiting\n",
    "\n",
    "# Get recruiting player rankings for 2024\n",
    "players_2024 = recruiting.get_recruiting_players(year=2024)\n",
    "display(players_2024)\n",
    "\n",
    "# Get team recruiting rankings for 2024\n",
    "teams_2024 = recruiting.get_recruiting_teams(year=2024)\n",
    "display(teams_2024)"
   ]
  },
  {
   "cell_type": "markdown",
   "metadata": {},
   "source": [
    "# Ratings"
   ]
  },
  {
   "cell_type": "code",
   "execution_count": null,
   "metadata": {},
   "outputs": [],
   "source": [
    "import ratings\n",
    "\n",
    "# Get SP+ ratings for 2024\n",
    "sp_ratings_2024 = ratings.get_sp_ratings(year=2024, team=None)\n",
    "display(sp_ratings_2024)\n",
    "\n",
    "# Get conference SP+ ratings for 2024\n",
    "conf_ratings_2024 = ratings.get_sp_conference_ratings(year=2024)\n",
    "display(conf_ratings_2024)\n",
    "\n",
    "# Get FPI ratings for USC in 2024\n",
    "usc_fpi = ratings.get_fpi_ratings(year=2024, team=\"USC\")\n",
    "display(usc_fpi)\n",
    "\n",
    "# Get Elo ratings for Week 1 of 2024\n",
    "week1_elo = ratings.get_elo_ratings(year=2024, week=1)\n",
    "display(week1_elo)"
   ]
  },
  {
   "cell_type": "markdown",
   "metadata": {},
   "source": [
    "# Metrics"
   ]
  },
  {
   "cell_type": "markdown",
   "metadata": {},
   "source": []
  },
  {
   "cell_type": "markdown",
   "metadata": {},
   "source": [
    "# Stats"
   ]
  },
  {
   "cell_type": "markdown",
   "metadata": {},
   "source": []
  },
  {
   "cell_type": "markdown",
   "metadata": {},
   "source": [
    "# Draft"
   ]
  },
  {
   "cell_type": "code",
   "execution_count": null,
   "metadata": {},
   "outputs": [],
   "source": [
    "import draft\n",
    "import pandas as pd\n",
    "\n",
    "# Get 2024 Draft Data\n",
    "picks_2024 = draft.get_draft_picks(year=2024)\n",
    "picks_2024.head(2)"
   ]
  },
  {
   "cell_type": "code",
   "execution_count": null,
   "metadata": {},
   "outputs": [],
   "source": [
    "# Get all available draft positions\n",
    "positions = draft.get_draft_positions()\n",
    "positions.head()"
   ]
  },
  {
   "cell_type": "code",
   "execution_count": null,
   "metadata": {},
   "outputs": [],
   "source": [
    "# Get draft picks for a specific school\n",
    "alabama_picks = draft.get_draft_picks(school=\"Alabama\", year=2024)\n",
    "alabama_picks"
   ]
  },
  {
   "cell_type": "markdown",
   "metadata": {},
   "source": [
    "# Adjusted Metrics"
   ]
  }
 ],
 "metadata": {
  "kernelspec": {
   "display_name": "base",
   "language": "python",
   "name": "python3"
  },
  "language_info": {
   "codemirror_mode": {
    "name": "ipython",
    "version": 3
   },
   "file_extension": ".py",
   "mimetype": "text/x-python",
   "name": "python",
   "nbconvert_exporter": "python",
   "pygments_lexer": "ipython3",
   "version": "3.12.7"
  }
 },
 "nbformat": 4,
 "nbformat_minor": 2
}
