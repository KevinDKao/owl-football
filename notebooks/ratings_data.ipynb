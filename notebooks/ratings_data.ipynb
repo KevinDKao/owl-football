{
 "cells": [
  {
   "cell_type": "markdown",
   "id": "78dd9be7",
   "metadata": {},
   "source": [
    "# Ratings and Rankings Data Collection (2014–2024)\n",
    "\n",
    "This notebook collects, organizes, and cleans data focusing specifically on SP+ conference ratings and team rankings from the years 2014 to 2024."
   ]
  },
  {
   "cell_type": "code",
   "execution_count": null,
   "id": "2459cc2c",
   "metadata": {},
   "outputs": [],
   "source": [
    "import ratings\n",
    "from ratings import (\n",
    "    get_sp_ratings,\n",
    "    get_sp_conference_ratings,\n",
    "    get_fpi_ratings,\n",
    "    get_elo_ratings,\n",
    ")\n",
    "from credentials import API_KEY\n",
    "import pandas as pd\n",
    "import matplotlib.pyplot as plt"
   ]
  },
  {
   "cell_type": "markdown",
   "id": "5588a81d",
   "metadata": {},
   "source": [
    "### Confrence ratings : year"
   ]
  },
  {
   "cell_type": "code",
   "execution_count": null,
   "id": "e2d02bc6",
   "metadata": {},
   "outputs": [],
   "source": [
    "years = list(range(2014, 2025))\n",
    "all_conf_ratings = pd.DataFrame()\n",
    "\n",
    "for year in years:\n",
    "    conf_ratings = get_sp_conference_ratings(year=year)\n",
    "\n",
    "    if not conf_ratings.empty:\n",
    "        conf_ratings_subset = conf_ratings[[\"conference\", \"rating\"]].copy()\n",
    "        conf_ratings_subset[\"year\"] = year\n",
    "        all_conf_ratings = pd.concat(\n",
    "            [all_conf_ratings, conf_ratings_subset], ignore_index=True\n",
    "        )\n",
    "    else:\n",
    "        print(f\"No data for year {year}\")\n",
    "\n",
    "# Sort by year descending then rating descending\n",
    "all_conf_ratings_sorted = all_conf_ratings.sort_values(\n",
    "    by=[\"year\", \"rating\"], ascending=[False, False]\n",
    ")"
   ]
  },
  {
   "cell_type": "code",
   "execution_count": null,
   "id": "53e41807",
   "metadata": {},
   "outputs": [],
   "source": [
    "display(all_conf_ratings_sorted.head(100))"
   ]
  },
  {
   "cell_type": "markdown",
   "id": "b7f37346",
   "metadata": {},
   "source": [
    "### Weekly Elo Ratings: one year (2023)"
   ]
  },
  {
   "cell_type": "code",
   "execution_count": null,
   "id": "cb27e94b",
   "metadata": {},
   "outputs": [],
   "source": [
    "years = range(2023, 2024)\n",
    "weeks = range(1, 16)\n",
    "\n",
    "all_elo_ratings = pd.DataFrame()\n",
    "\n",
    "for year in years:\n",
    "    for week in weeks:\n",
    "        elo_ratings = get_elo_ratings(year=year, week=week)\n",
    "        elo_df = pd.json_normalize(elo_ratings)\n",
    "\n",
    "        elo_df = elo_df = elo_ratings[[\"year\", \"team\", \"conference\", \"elo\"]].copy()\n",
    "        elo_df[\"week\"] = week\n",
    "\n",
    "        all_elo_ratings = pd.concat([all_elo_ratings, elo_df], ignore_index=True)\n",
    "\n",
    "# Sort by year descending, week descending, and elo descending\n",
    "all_elo_ratings_sorted = all_elo_ratings.sort_values(\n",
    "    by=[\"year\", \"week\", \"elo\"], ascending=[False, False, False]\n",
    ")\n",
    "\n",
    "display(all_elo_ratings_sorted.head(20))"
   ]
  },
  {
   "cell_type": "code",
   "execution_count": null,
   "id": "0e547caa",
   "metadata": {},
   "outputs": [],
   "source": [
    "display(all_elo_ratings_sorted)"
   ]
  },
  {
   "cell_type": "code",
   "execution_count": null,
   "id": "1a8d5147",
   "metadata": {},
   "outputs": [],
   "source": [
    "smu_data = all_elo_ratings_sorted[all_elo_ratings_sorted[\"team\"] == \"SMU\"]\n",
    "\n",
    "smu_data_sorted = smu_data.sort_values(by=\"week\")\n",
    "\n",
    "# Plotting\n",
    "plt.figure(figsize=(10, 6))\n",
    "plt.plot(\n",
    "    smu_data_sorted[\"week\"],\n",
    "    smu_data_sorted[\"elo\"],\n",
    "    marker=\"o\",\n",
    "    linestyle=\"-\",\n",
    "    linewidth=2,\n",
    ")\n",
    "plt.title(\"SMU Elo Rating Week Over Week (2023)\", fontsize=14)\n",
    "plt.xlabel(\"Week\", fontsize=12)\n",
    "plt.ylabel(\"Elo Rating\", fontsize=12)\n",
    "plt.grid(True)\n",
    "plt.xticks(range(smu_data_sorted[\"week\"].min(), smu_data_sorted[\"week\"].max() + 1))\n",
    "plt.show()"
   ]
  },
  {
   "cell_type": "code",
   "execution_count": null,
   "id": "b4c9d299",
   "metadata": {},
   "outputs": [],
   "source": [
    "rice_data = all_elo_ratings_sorted[all_elo_ratings_sorted[\"team\"] == \"Rice\"]\n",
    "\n",
    "rice_data_sorted = rice_data.sort_values(by=\"week\")\n",
    "\n",
    "# Plotting\n",
    "plt.figure(figsize=(10, 6))\n",
    "plt.plot(\n",
    "    rice_data_sorted[\"week\"],\n",
    "    rice_data_sorted[\"elo\"],\n",
    "    marker=\"o\",\n",
    "    linestyle=\"-\",\n",
    "    linewidth=2,\n",
    ")\n",
    "plt.title(\"Rice Elo Rating Week Over Week (2023)\", fontsize=14)\n",
    "plt.xlabel(\"Week\", fontsize=12)\n",
    "plt.ylabel(\"Elo Rating\", fontsize=12)\n",
    "plt.grid(True)\n",
    "plt.xticks(range(rice_data_sorted[\"week\"].min(), rice_data_sorted[\"week\"].max() + 1))\n",
    "plt.show()"
   ]
  },
  {
   "cell_type": "markdown",
   "id": "afef43a6",
   "metadata": {},
   "source": [
    "Weeks 13-14-15 do not change because Rice did not play in those weeks."
   ]
  }
 ],
 "metadata": {
  "kernelspec": {
   "display_name": "Python 3 (ipykernel)",
   "language": "python",
   "name": "python3"
  },
  "language_info": {
   "codemirror_mode": {
    "name": "ipython",
    "version": 3
   },
   "file_extension": ".py",
   "mimetype": "text/x-python",
   "name": "python",
   "nbconvert_exporter": "python",
   "pygments_lexer": "ipython3",
   "version": "3.11.5"
  }
 },
 "nbformat": 4,
 "nbformat_minor": 5
}
